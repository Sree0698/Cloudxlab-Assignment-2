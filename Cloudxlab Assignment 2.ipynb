{
 "cells": [
  {
   "cell_type": "code",
   "execution_count": 6,
   "id": "6fa85764",
   "metadata": {},
   "outputs": [],
   "source": [
    "import random\n",
    "\n",
    "def sample(x, fraction):\n",
    "    sample_size = max(1, int(len(x) * fraction))\n",
    "    return random.sample(x, sample_size)"
   ]
  },
  {
   "cell_type": "code",
   "execution_count": 7,
   "id": "d071e8a0",
   "metadata": {},
   "outputs": [
    {
     "name": "stdout",
     "output_type": "stream",
     "text": [
      "[49]\n",
      "[40]\n",
      "[95, 29, 24, 88, 40]\n"
     ]
    }
   ],
   "source": [
    "# Using this function to get a random sample of elements from the list:\n",
    "\n",
    "sample_result = sample(list(range(1, 101)), 0.01)\n",
    "print(sample_result) \n",
    "\n",
    "sample_result = sample(list(range(1, 101)), 0.01)\n",
    "print(sample_result)  \n",
    "\n",
    "sample_result = sample(list(range(1, 101)), 0.05)\n",
    "print(sample_result)"
   ]
  },
  {
   "cell_type": "code",
   "execution_count": 8,
   "id": "15298deb",
   "metadata": {},
   "outputs": [],
   "source": [
    "# Splitting the array x into training and test sets in approximate proportion:\n",
    "\n",
    "import random\n",
    "\n",
    "def split(x, test_ratio):\n",
    "    assert 0 <= test_ratio <= 1, \"test_ratio must be between 0 and 1\"\n",
    "\n",
    "    num_samples = len(x)\n",
    "    test_size = int(num_samples * test_ratio)\n",
    "\n",
    "    indices = list(range(num_samples))\n",
    "    random.shuffle(indices)\n",
    "\n",
    "    test_indices = indices[:test_size]\n",
    "    train_indices = indices[test_size:]\n",
    "\n",
    "    x_test = [x[i] for i in test_indices]\n",
    "    x_train = [x[i] for i in train_indices]\n",
    "\n",
    "    return x_train, x_test"
   ]
  },
  {
   "cell_type": "code",
   "execution_count": 9,
   "id": "a453b3a0",
   "metadata": {},
   "outputs": [
    {
     "name": "stdout",
     "output_type": "stream",
     "text": [
      "Training set: [4, 8, 9, 3, 6, 2, 5]\n",
      "Test set: [1, 10, 7]\n"
     ]
    }
   ],
   "source": [
    "x = [1, 2, 3, 4, 5, 6, 7, 8, 9, 10]\n",
    "test_ratio = 0.3\n",
    "x_train, x_test = split(x, test_ratio)\n",
    "print(\"Training set:\", x_train)\n",
    "print(\"Test set:\", x_test)"
   ]
  },
  {
   "cell_type": "code",
   "execution_count": 10,
   "id": "10c1e101",
   "metadata": {},
   "outputs": [
    {
     "name": "stdout",
     "output_type": "stream",
     "text": [
      "Approximation of the root x: 2.499999999999999\n",
      "Value of f(x) at the root: 1.7499999999999991\n"
     ]
    }
   ],
   "source": [
    "# Using Gradient Descent to Find x:\n",
    "\n",
    "def f(x):\n",
    "    return x * x - 5 * x + 8\n",
    "\n",
    "def gradient_descent(learning_rate, max_iterations):\n",
    "    x = 0.0  # Initial value of x\n",
    "    for _ in range(max_iterations):\n",
    "        gradient = 2 * x - 5  # Derivative of f(x) with respect to x\n",
    "        x = x - learning_rate * gradient\n",
    "    return x\n",
    "\n",
    "root_approximation = gradient_descent(learning_rate=0.1, max_iterations=1000)\n",
    "print(\"Approximation of the root x:\", root_approximation)\n",
    "print(\"Value of f(x) at the root:\", f(root_approximation))"
   ]
  },
  {
   "cell_type": "code",
   "execution_count": null,
   "id": "c4faf25b",
   "metadata": {},
   "outputs": [],
   "source": []
  },
  {
   "cell_type": "code",
   "execution_count": null,
   "id": "276fca78",
   "metadata": {},
   "outputs": [],
   "source": []
  }
 ],
 "metadata": {
  "kernelspec": {
   "display_name": "Python 3 (ipykernel)",
   "language": "python",
   "name": "python3"
  },
  "language_info": {
   "codemirror_mode": {
    "name": "ipython",
    "version": 3
   },
   "file_extension": ".py",
   "mimetype": "text/x-python",
   "name": "python",
   "nbconvert_exporter": "python",
   "pygments_lexer": "ipython3",
   "version": "3.9.12"
  }
 },
 "nbformat": 4,
 "nbformat_minor": 5
}
